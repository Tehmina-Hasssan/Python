{
 "cells": [
  {
   "cell_type": "markdown",
   "metadata": {},
   "source": [
    "# Q1:"
   ]
  },
  {
   "cell_type": "markdown",
   "metadata": {},
   "source": [
    "Think of at least three kinds of your favorite pizza. Store these pizza names in a list, and then use a for loop to print the name of each pizza."
   ]
  },
  {
   "cell_type": "code",
   "execution_count": 18,
   "metadata": {},
   "outputs": [],
   "source": [
    "my_favourite_pizzas=[\"Tandori Chicken\",\"Chicken Fajita\",\"Bar.B.Q\"]\n",
    "                   "
   ]
  },
  {
   "cell_type": "code",
   "execution_count": 19,
   "metadata": {},
   "outputs": [
    {
     "name": "stdout",
     "output_type": "stream",
     "text": [
      "Tandori Chicken\n",
      "Chicken Fajita\n",
      "Bar.B.Q\n"
     ]
    }
   ],
   "source": [
    "for i in my_favourite_pizzas:\n",
    "    print(i)"
   ]
  },
  {
   "cell_type": "markdown",
   "metadata": {},
   "source": [
    "# Q2"
   ]
  },
  {
   "cell_type": "markdown",
   "metadata": {},
   "source": [
    "Start with your last question , Modify your for loop to print a sentence using the name of the pizza\n",
    "instead of printing just the name of the pizza. For each pizza you should\n",
    "have one line of output containing a simple statement like I like pepperoni\n",
    "pizza."
   ]
  },
  {
   "cell_type": "code",
   "execution_count": 20,
   "metadata": {},
   "outputs": [
    {
     "name": "stdout",
     "output_type": "stream",
     "text": [
      " I Like Tandori Chicken pizza.\n",
      " I Like Chicken Fajita pizza.\n",
      " I Like Bar.B.Q pizza.\n"
     ]
    }
   ],
   "source": [
    "for pizza in my_favourite_pizzas:\n",
    "    print(\" I Like \" + pizza + \" pizza.\")"
   ]
  },
  {
   "cell_type": "markdown",
   "metadata": {},
   "source": [
    "# Q3:"
   ]
  },
  {
   "cell_type": "markdown",
   "metadata": {},
   "source": [
    "Use a for loop to print the numbers from 1 to 20,\n",
    "inclusive."
   ]
  },
  {
   "cell_type": "code",
   "execution_count": 21,
   "metadata": {},
   "outputs": [
    {
     "name": "stdout",
     "output_type": "stream",
     "text": [
      "0\n",
      "1\n",
      "2\n",
      "3\n",
      "4\n",
      "5\n",
      "6\n",
      "7\n",
      "8\n",
      "9\n",
      "10\n",
      "11\n",
      "12\n",
      "13\n",
      "14\n",
      "15\n",
      "16\n",
      "17\n",
      "18\n",
      "19\n",
      "20\n"
     ]
    }
   ],
   "source": [
    "for a in range(0,21):\n",
    "     print(a)"
   ]
  },
  {
   "cell_type": "markdown",
   "metadata": {},
   "source": [
    "# Q4:"
   ]
  },
  {
   "cell_type": "markdown",
   "metadata": {},
   "source": [
    "Use the third argument of the range() function to make a list\n",
    "of the odd numbers from 1 to 20. Use a for loop to print each number."
   ]
  },
  {
   "cell_type": "code",
   "execution_count": 22,
   "metadata": {},
   "outputs": [
    {
     "name": "stdout",
     "output_type": "stream",
     "text": [
      "1\n",
      "3\n",
      "5\n",
      "7\n",
      "9\n",
      "11\n",
      "13\n",
      "15\n",
      "17\n",
      "19\n"
     ]
    }
   ],
   "source": [
    "for i in range(1,20,2):\n",
    "    print(i)\n",
    "    "
   ]
  },
  {
   "cell_type": "markdown",
   "metadata": {},
   "source": [
    "# Q5:"
   ]
  },
  {
   "cell_type": "markdown",
   "metadata": {},
   "source": [
    "Make a list of the multiples of 3 from 3 to 30. Use a for loop to\n",
    "print the numbers in your list."
   ]
  },
  {
   "cell_type": "code",
   "execution_count": 28,
   "metadata": {},
   "outputs": [
    {
     "name": "stdout",
     "output_type": "stream",
     "text": [
      "3\n",
      "6\n",
      "9\n",
      "12\n",
      "15\n",
      "18\n",
      "21\n",
      "24\n",
      "27\n",
      "30\n"
     ]
    }
   ],
   "source": [
    " list_multiples_of_3 = [value for value in range(3, 31, 3)]\n",
    "for multiples_of_3 in list_multiples_of_3:\n",
    "    print(multiples_of_3)"
   ]
  },
  {
   "cell_type": "markdown",
   "metadata": {},
   "source": [
    "# Q6:"
   ]
  },
  {
   "cell_type": "markdown",
   "metadata": {},
   "source": [
    "A number raised to the third power is called a cube. For example,\n",
    "the cube of 2 is written as 2**3 in Python. Make a list of the first 10 cubes (that\n",
    "is, the cube of each integer from 1 through 10), and use a for loop to print out\n",
    "the value of each cube"
   ]
  },
  {
   "cell_type": "code",
   "execution_count": 9,
   "metadata": {},
   "outputs": [
    {
     "name": "stdout",
     "output_type": "stream",
     "text": [
      "1\n",
      "8\n",
      "27\n",
      "64\n",
      "125\n",
      "216\n",
      "343\n",
      "512\n",
      "729\n",
      "1000\n"
     ]
    }
   ],
   "source": [
    "cube = [value **3 for value in range(1,11)]\n",
    "for cubes in cube:\n",
    "    print(cubes)\n"
   ]
  },
  {
   "cell_type": "markdown",
   "metadata": {},
   "source": [
    "# Q7:"
   ]
  },
  {
   "cell_type": "markdown",
   "metadata": {},
   "source": [
    "###### Make a python program that conatains your nine favourite dishes in a list called foods.\n",
    "\n",
    "###### Print the message, The first three items in the list are:. \n",
    "###### Then use a slice to print the first three items from that program’s list.\n",
    "\n",
    "###### Print the message, Three items from the middle of the list are:\n",
    "###### Use a slice to print three items from the middle of the list.\n",
    "\n",
    "###### Print the message, The last three items in the list are:\n",
    "###### Use a slice to print the last three items in the list."
   ]
  },
  {
   "cell_type": "code",
   "execution_count": 64,
   "metadata": {},
   "outputs": [
    {
     "name": "stdout",
     "output_type": "stream",
     "text": [
      "The first three items in the list are:\n",
      " \n",
      "Biryani\n",
      "Karhai\n",
      "Achar gosht\n"
     ]
    }
   ],
   "source": [
    "my_favourite_foods =[\"Biryani\",\"Karhai\",\"Achar gosht\",\"Aloo qeema\",\"Fried Rice\",\"Bar.B.Q\",\"Tandori chicken\",\"Hari mirchien qeema\",\"Sphagetti\"]\n",
    "print(\"The first three items in the list are:\\n \")\n",
    "for dishes in my_favourite_foods [:3]:\n",
    "        print(dishes)\n",
    "        "
   ]
  },
  {
   "cell_type": "code",
   "execution_count": 61,
   "metadata": {},
   "outputs": [
    {
     "name": "stdout",
     "output_type": "stream",
     "text": [
      "The middle three items in the list are:\n",
      "\n",
      "Aloo qeema\n",
      "Fried Rice\n",
      "Bar.B.Q\n"
     ]
    }
   ],
   "source": [
    "my_favourite_foods =[\"Biryani\",\"Karhai\",\"Achar gosht\",\"Aloo qeema\",\"Fried Rice\",\"Bar.B.Q\",\"Tandori chicken\",\"Hari mirchien qeema\",\"Sphagetti\"]\n",
    "print(\"The middle three items in the list are:\\n\")\n",
    "for dishes in my_favourite_foods [-6:-3]:\n",
    "    print(dishes)\n",
    "        "
   ]
  },
  {
   "cell_type": "code",
   "execution_count": 60,
   "metadata": {},
   "outputs": [
    {
     "name": "stdout",
     "output_type": "stream",
     "text": [
      "The last three items in the list are:\n",
      " \n",
      "Tandori chicken\n",
      "Hari mirchien qeema\n",
      "Sphagetti\n"
     ]
    }
   ],
   "source": [
    "my_favourite_foods =[\"Biryani\",\"Karhai\",\"Achar gosht\",\"Aloo qeema\",\"Fried Rice\",\"Bar.B.Q\",\"Tandori chicken\",\"Hari mirchien qeema\",\"Sphagetti\"]\n",
    "print(\"The last three items in the list are:\\n \")\n",
    "for dishes in my_favourite_foods [6:]:\n",
    "        print(dishes)\n",
    "        "
   ]
  },
  {
   "cell_type": "markdown",
   "metadata": {},
   "source": [
    "# Q8:"
   ]
  },
  {
   "cell_type": "markdown",
   "metadata": {},
   "source": [
    "### Start with your program from your last Question8.\n",
    "###### Make a copy of the list of foods, and call it friend_foods.\n",
    "###### Then, do the following:\n",
    "######    Add a new dish to the original list.\n",
    "######    Add a different dish to the list friend_foodss.\n",
    "######    Prove that you have two separate lists. \n",
    "###### Print the message, My favorite pizzas are: and then use a for loop to print the first list. \n",
    "###### Print the message,\n",
    "###### My friend’s favorite foods are:, and then use a for loop to print the second list.\n",
    "    \n",
    "##### NOTE: Make sure each new dish is stored in the appropriate list."
   ]
  },
  {
   "cell_type": "code",
   "execution_count": 1,
   "metadata": {},
   "outputs": [
    {
     "name": "stdout",
     "output_type": "stream",
     "text": [
      "My favourite foods are:\n",
      "\n",
      "Biryani\n",
      "Karhai\n",
      "Achar gosht\n",
      "Aloo qeema\n",
      "Fried Rice\n",
      "Bar.B.Q\n",
      "Tandori chicken\n",
      "Hari mirchien qeema\n",
      "Sphagetti\n",
      "Haleem\n",
      "\n",
      "My friend's favourite foods are:\n",
      "\n",
      "Biryani\n",
      "Karhai\n",
      "Achar gosht\n",
      "Aloo qeema\n",
      "Fried Rice\n",
      "Bar.B.Q\n",
      "Tandori chicken\n",
      "Hari mirchien qeema\n",
      "Sphagetti\n",
      "Chicken Tikka\n"
     ]
    }
   ],
   "source": [
    "my_favourite_foods =[\"Biryani\",\"Karhai\",\"Achar gosht\",\"Aloo qeema\",\"Fried Rice\",\"Bar.B.Q\",\"Tandori chicken\",\"Hari mirchien qeema\",\"Sphagetti\"]\n",
    "my_friends_foods = my_favourite_foods.copy()\n",
    "\n",
    "my_favourite_foods.append(\"Haleem\")\n",
    "\n",
    "my_friends_foods.append(\"Chicken Tikka\")\n",
    "\n",
    "my_favourite_foods.copy()\n",
    "     \n",
    "print(\"My favourite foods are:\\n\")\n",
    "\n",
    "for foods in my_favourite_foods:\n",
    "     print(foods)\n",
    "print(\"\\nMy friend's favourite foods are:\\n\")        \n",
    "for foods in my_friends_foods:\n",
    "    print(foods)\n"
   ]
  },
  {
   "cell_type": "markdown",
   "metadata": {},
   "source": [
    "# Q9:"
   ]
  },
  {
   "cell_type": "markdown",
   "metadata": {},
   "source": [
    "Take a user input from console line.Store it in a variable called Alien_color.\n",
    "\n",
    "If the alien’s color is red, print a statement that the player just earned 5 points for shooting the alien.\n",
    "\n",
    "If the alien’s color isn’t green, print a statement that the player just earned 10 points.\n",
    "\n",
    "If the alien's color isn't red or green , print a statment :, Alien is no more....."
   ]
  },
  {
   "cell_type": "code",
   "execution_count": 1,
   "metadata": {},
   "outputs": [
    {
     "name": "stdout",
     "output_type": "stream",
     "text": [
      "Enter the colour of Alien : green\n",
      "Alien is no more. . . . \n"
     ]
    }
   ],
   "source": [
    "alien_color = (input(\"Enter the colour of Alien : \"))\n",
    "if  alien_color == \"red\":\n",
    "    print(\"The players just earned 5 points for shooting the alien.\")\n",
    "elif alien_color ==\"green\":\n",
    "    print(\"The players just earned 10 points. \")\n",
    "else:\n",
    "    print(\"Alien is no more. . . . \")\n",
    "    "
   ]
  },
  {
   "cell_type": "markdown",
   "metadata": {},
   "source": [
    "# Q10:"
   ]
  },
  {
   "cell_type": "markdown",
   "metadata": {},
   "source": [
    "Write an if-elif-else chain that determines a person’s\n",
    "stage of life. Set a value for the variable age, and then:\n",
    "    \n",
    "•\t If the person is less than 2 years old, print a message that the person is a baby.\n",
    "\n",
    "•\t If the person is at least 2 years old but less than 4, print a message that the person is a toddler.\n",
    "\n",
    "•\t If the person is at least 4 years old but less than 13, print a message that the person is a kid.\n",
    "\n",
    "•\t If the person is at least 13 years old but less than 20, print a message that the person is a teenager.\n",
    "\n",
    "•\t If the person is at least 20 years old but less than 65, print a message that the person is an adult.\n",
    "\n",
    "•\t If the person is age 65 or older, print a message that the person is an elder."
   ]
  },
  {
   "cell_type": "code",
   "execution_count": 10,
   "metadata": {},
   "outputs": [
    {
     "name": "stdout",
     "output_type": "stream",
     "text": [
      "The person is an adult.\n"
     ]
    }
   ],
   "source": [
    " age = 22\n",
    "    \n",
    "if age < 2:\n",
    "        print(\"The person is a baby.\")\n",
    "elif age >= 2 and age < 4:\n",
    "    print(\"The person is a toddler.\")\n",
    "elif age >= 4 and age < 13:\n",
    "    print(\"The person is a kid.\")\n",
    "elif age >= 13 and age < 20:\n",
    "    print(\"The person is a teenager.\")\n",
    "elif age >= 20 and age < 65:\n",
    "    print(\"The person is an adult.\")\n",
    "else:\n",
    "    print(\"The person is an elder.\")\n",
    "    \n",
    "    \n",
    "    "
   ]
  },
  {
   "cell_type": "markdown",
   "metadata": {},
   "source": [
    "# Q11:"
   ]
  },
  {
   "cell_type": "markdown",
   "metadata": {},
   "source": [
    "Do the following to create a program that simulates how websites ensure that everyone has a unique username.\n",
    "\n",
    "•\t Make a list of five or more usernames called current_users.\n",
    "\n",
    "•\t Make another list of five usernames called new_users. \n",
    "Make sure one or two of the new usernames are also in the current_users list.\n",
    "\n",
    "•\t Loop through the new_users list to see if each new username has already been used. \n",
    "If it has, print a message that the person will need to enter a new username. \n",
    "If a username has not been used, print a message saying that the username is available.\n",
    "\n",
    "•\t Make sure your comparison is case insensitive. If 'John' has been used, 'JOHN' should not be accepted."
   ]
  },
  {
   "cell_type": "code",
   "execution_count": 1,
   "metadata": {},
   "outputs": [],
   "source": [
    "current_users = [\"Maryam\",\"Sadia\",\"Wajihia\",\"Rabia\",\"Eshaal\",\"Tehmina\"]"
   ]
  },
  {
   "cell_type": "code",
   "execution_count": 2,
   "metadata": {},
   "outputs": [],
   "source": [
    "new_users=[\"Maryam\",\"Zainab\",\"Ghazala\",\"Somia\",\"Kainat\",\"Aisha\"]"
   ]
  },
  {
   "cell_type": "code",
   "execution_count": 12,
   "metadata": {},
   "outputs": [
    {
     "name": "stdout",
     "output_type": "stream",
     "text": [
      "'Zainab' username is available!\n",
      "'Ghazala' username is available!\n",
      "'Somia' username is available!\n",
      "'Kainat' username is available!\n",
      "'Aisha' username is available!\n",
      "'Iqra' username is available!\n"
     ]
    }
   ],
   "source": [
    "for new_user in new_users:\n",
    "    if new_user in current_users:\n",
    "        print(\"'\"+ new_user + \"' username is already used!\\nYou have to enter a new username!\\n\")\n",
    "        \n",
    "        new_users.remove(new_user)\n",
    "        \n",
    "        username = input(\"Enter Username: \")\n",
    "        \n",
    "        if username.lower() == new_user.lower():\n",
    "            print(\"'\"+ new_user + \"' username is already used!\\nYou have to enter a new username!\\n\")\n",
    "        else:\n",
    "            new_users.append(username.title())\n",
    "    else:\n",
    "        print(\"'\"+ new_user + \"' username is available!\")                      "
   ]
  },
  {
   "cell_type": "markdown",
   "metadata": {},
   "source": [
    "# Q12:"
   ]
  },
  {
   "cell_type": "markdown",
   "metadata": {},
   "source": [
    "Use a dictionary to store information about a person you know.\n",
    "Store their first name, last name, age, and the city in which they live. \n",
    "You should have keys such as first_name, last_name, age, and city. \n",
    "Print each piece of information stored in your dictionary"
   ]
  },
  {
   "cell_type": "code",
   "execution_count": 41,
   "metadata": {},
   "outputs": [
    {
     "name": "stdout",
     "output_type": "stream",
     "text": [
      "first name:Maryam\n",
      "last name:Siddique\n",
      "age:22\n",
      "city:Karachi\n"
     ]
    }
   ],
   "source": [
    "person ={\"first_name\":\"Maryam\",\n",
    "         \"last_name\":\"Siddique\",\n",
    "          \"age\":\"22\",\n",
    "         \"city\":\"Karachi\"}\n",
    "\n",
    "print(\"first name:\" + person[\"first_name\"])\n",
    "print(\"last name:\"  + person[\"last_name\" ])\n",
    "print(\"age:\" + person[\"age\"])\n",
    "print(\"city:\" + person[\"city\"])"
   ]
  },
  {
   "cell_type": "markdown",
   "metadata": {},
   "source": [
    "# Q13:"
   ]
  },
  {
   "cell_type": "markdown",
   "metadata": {},
   "source": [
    "Starts with your last question 12 , loop through the dictionary’s keys and values.\n",
    "When you’re sure that your loop works, add five more Python terms to your\n",
    "dictionary . When you run your program again, these new words and meanings\n",
    "should automatically be included in the output."
   ]
  },
  {
   "cell_type": "code",
   "execution_count": 48,
   "metadata": {},
   "outputs": [
    {
     "name": "stdout",
     "output_type": "stream",
     "text": [
      "first_name :Maryam\n",
      "last_name :Siddique\n",
      "age :22\n",
      "city :Karachi\n"
     ]
    }
   ],
   "source": [
    "person ={\"first_name\":\"Maryam\",\n",
    "         \"last_name\":\"Siddique\",\n",
    "          \"age\":\"22\",\n",
    "         \"city\":\"Karachi\"}\n",
    "\n",
    "for key ,value in person.items():\n",
    "    print(key +\" :\" +value)\n",
    "\n"
   ]
  },
  {
   "cell_type": "code",
   "execution_count": 55,
   "metadata": {},
   "outputs": [
    {
     "name": "stdout",
     "output_type": "stream",
     "text": [
      "first_name : Maryam\n",
      "last_name : Siddique\n",
      "age : 22\n",
      "city : Karachi\n",
      "def : define\n",
      "pass : to pass\n",
      "if : any condition\n",
      "break : to stop a loop\n",
      "for : for loop\n"
     ]
    }
   ],
   "source": [
    "person[\"def\"]=\"define\"\n",
    "person[\"pass\"] = \"to pass\"\n",
    "person[\"if\"] = \"any condition\"\n",
    "person[\"break\"] = \"to stop a loop\"\n",
    "person[\"for\"] =\"for loop\"\n",
    "\n",
    "for key ,value in person.items():\n",
    "    print(key +\" : \" + value)\n",
    "\n"
   ]
  },
  {
   "cell_type": "markdown",
   "metadata": {},
   "source": [
    "# Q14:"
   ]
  },
  {
   "cell_type": "markdown",
   "metadata": {},
   "source": [
    "Make a dictionary containing three major rivers and the country\n",
    "each river runs through. One key-value pair might be 'nile': 'egypt'.\n",
    "    \n",
    "    \n",
    "•\t Use a loop to print a sentence about each river, such as The Nile runs\n",
    "through Egypt.\n",
    "\n",
    "NOTE: use upper case through keys and values."
   ]
  },
  {
   "cell_type": "code",
   "execution_count": 26,
   "metadata": {},
   "outputs": [
    {
     "name": "stdout",
     "output_type": "stream",
     "text": [
      "The INDIA runs through YAMUNA.\n",
      "The CANADA runs through ST.LAWRENCE.\n",
      "The GERMANY runs through HAVEL.\n"
     ]
    }
   ],
   "source": [
    "rivers ={\"India\" : \"Yamuna\",\n",
    "        \"Canada\" : \"St.Lawrence\",\n",
    "         \"Germany\":\"Havel\"\n",
    "        }\n",
    "\n",
    "for river, country in rivers.items():\n",
    "    print(\"The \" + river.upper() + \" runs through \" + country.upper()+\".\" )"
   ]
  },
  {
   "cell_type": "markdown",
   "metadata": {},
   "source": [
    "# Q15:"
   ]
  },
  {
   "cell_type": "markdown",
   "metadata": {},
   "source": [
    "Make several dictionaries, where the name of each dictionary is the\n",
    "name of a pet. In each dictionary, include the kind of animal and the owner’s\n",
    "name. Store these dictionaries in a list called pets. Next, loop through your list\n",
    "and as you do print everything you know about each pet."
   ]
  },
  {
   "cell_type": "code",
   "execution_count": 36,
   "metadata": {},
   "outputs": [
    {
     "name": "stdout",
     "output_type": "stream",
     "text": [
      "Kinds : mammals\n",
      "owner's_name : Jack\n",
      "\n",
      "Kinds : mammals\n",
      "owner's_name : krish\n",
      "\n",
      "Kinds : bird\n",
      "owner's_name : Timmy\n",
      "\n"
     ]
    }
   ],
   "source": [
    "cat = {\"Kinds\":\"mammals\",\n",
    "      \"owner's_name\":\"Jack\"}\n",
    "\n",
    "whale = {\"Kinds\":\"mammals\",\n",
    "        \"owner's_name\":\"krish\"}\n",
    "\n",
    "australian_parrot = {\"Kinds\":\"bird\",\n",
    "                   \"owner's_name\":\"Timmy\"}\n",
    "\n",
    "pets =[cat,whale,australian_parrot]\n",
    "for pet in pets:\n",
    "    for key, value in pet.items():\n",
    "        print(key + \" : \" + value)\n",
    "    print()\n",
    "\n",
    "\n"
   ]
  },
  {
   "cell_type": "code",
   "execution_count": null,
   "metadata": {},
   "outputs": [],
   "source": []
  },
  {
   "cell_type": "code",
   "execution_count": null,
   "metadata": {},
   "outputs": [],
   "source": []
  }
 ],
 "metadata": {
  "kernelspec": {
   "display_name": "Python 3",
   "language": "python",
   "name": "python3"
  },
  "language_info": {
   "codemirror_mode": {
    "name": "ipython",
    "version": 3
   },
   "file_extension": ".py",
   "mimetype": "text/x-python",
   "name": "python",
   "nbconvert_exporter": "python",
   "pygments_lexer": "ipython3",
   "version": "3.7.3"
  }
 },
 "nbformat": 4,
 "nbformat_minor": 2
}
